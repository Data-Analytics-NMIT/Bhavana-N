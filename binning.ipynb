{
 "cells": [
  {
   "cell_type": "code",
   "execution_count": 5,
   "id": "c6f2aee8",
   "metadata": {},
   "outputs": [
    {
     "name": "stdout",
     "output_type": "stream",
     "text": [
      "[18 43 65 40 18  2 13 73 45 60 43 33  2 10 97 55 22 52 40 43]\n",
      "[1 4 6 4 1 0 1 7 4 6 4 3 0 1 9 5 2 5 4 4]\n",
      "[1 3 3 1 0 1 1 2 2 3 3 0 0 2 2 0]\n",
      "0.25      71.00\n",
      "0.50     896.50\n",
      "0.75    8049.75\n",
      "dtype: float64\n"
     ]
    }
   ],
   "source": [
    "import pandas as pd\n",
    "import numpy as np\n",
    "\n",
    "small_counts = np.random.randint(0, 100, 20)\n",
    "print(small_counts)\n",
    "\n",
    "print(np.floor_divide(small_counts, 10))\n",
    "large_counts = [296, 8286, 64011, 80, 3, 725, 867, 2215, 7689, 11495, 91897, 44, 28, 7971,\n",
    "926, 12]\n",
    "\n",
    "print(pd.qcut(large_counts, 4, labels=False))\n",
    "\n",
    "large_counts_series = pd.Series(large_counts)\n",
    "\n",
    "print(large_counts_series.quantile([0.25, 0.5, 0.75]))"
   ]
  }
 ],
 "metadata": {
  "kernelspec": {
   "display_name": "Python 3 (ipykernel)",
   "language": "python",
   "name": "python3"
  },
  "language_info": {
   "codemirror_mode": {
    "name": "ipython",
    "version": 3
   },
   "file_extension": ".py",
   "mimetype": "text/x-python",
   "name": "python",
   "nbconvert_exporter": "python",
   "pygments_lexer": "ipython3",
   "version": "3.9.7"
  }
 },
 "nbformat": 4,
 "nbformat_minor": 5
}
